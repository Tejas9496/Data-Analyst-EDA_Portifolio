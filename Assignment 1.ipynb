{
 "cells": [
  {
   "cell_type": "markdown",
   "id": "14599af9",
   "metadata": {},
   "source": [
    "Q1. Create one variable containing following type of data:\n",
    "(i) string\n",
    "(ii) list\n",
    "(iii) float\n",
    "(iv) tuple"
   ]
  },
  {
   "cell_type": "code",
   "execution_count": 1,
   "id": "4f44cd81",
   "metadata": {},
   "outputs": [],
   "source": [
    "\n",
    "Q1=['Hello',[1,2,3,4],3.25,(1,2,3,4)]"
   ]
  },
  {
   "cell_type": "code",
   "execution_count": 5,
   "id": "0e2ba1dd",
   "metadata": {},
   "outputs": [
    {
     "data": {
      "text/plain": [
       "str"
      ]
     },
     "execution_count": 5,
     "metadata": {},
     "output_type": "execute_result"
    }
   ],
   "source": [
    "type(Q1[0])"
   ]
  },
  {
   "cell_type": "code",
   "execution_count": 6,
   "id": "836905b4",
   "metadata": {},
   "outputs": [
    {
     "data": {
      "text/plain": [
       "list"
      ]
     },
     "execution_count": 6,
     "metadata": {},
     "output_type": "execute_result"
    }
   ],
   "source": [
    "type(Q1[1])"
   ]
  },
  {
   "cell_type": "code",
   "execution_count": 7,
   "id": "88c23c3a",
   "metadata": {},
   "outputs": [
    {
     "data": {
      "text/plain": [
       "float"
      ]
     },
     "execution_count": 7,
     "metadata": {},
     "output_type": "execute_result"
    }
   ],
   "source": [
    "type(Q1[2])"
   ]
  },
  {
   "cell_type": "code",
   "execution_count": 8,
   "id": "84a06008",
   "metadata": {},
   "outputs": [
    {
     "data": {
      "text/plain": [
       "tuple"
      ]
     },
     "execution_count": 8,
     "metadata": {},
     "output_type": "execute_result"
    }
   ],
   "source": [
    "type(Q1[3])"
   ]
  },
  {
   "cell_type": "markdown",
   "id": "d50f9e38",
   "metadata": {},
   "source": [
    "#Q2: Q2. Given are some following variables containing data:\n",
    "(i) var1 = ‘ ‘\n",
    "(ii) var2 = ‘[ DS , ML , Python]’\n",
    "(iii) var3 = [ ‘DS’ , ’ML’ , ‘Python’ ]\n",
    "(iv) var4 = 1.\n",
    "What will be the data type of the above given variable."
   ]
  },
  {
   "cell_type": "code",
   "execution_count": 11,
   "id": "cce5415e",
   "metadata": {},
   "outputs": [],
   "source": [
    "var1 = ''\n",
    "var2 = '[DS,ML,Python]'\n",
    "var3 = ['DS','ML','Python']\n",
    "var4 = 1."
   ]
  },
  {
   "cell_type": "code",
   "execution_count": 13,
   "id": "a2151f0f",
   "metadata": {},
   "outputs": [
    {
     "name": "stdout",
     "output_type": "stream",
     "text": [
      "<class 'str'>\n",
      "<class 'str'>\n",
      "<class 'list'>\n",
      "<class 'float'>\n"
     ]
    }
   ],
   "source": [
    "print(type(var1))\n",
    "print(type(var2))\n",
    "print(type(var3))\n",
    "print(type(var4))"
   ]
  },
  {
   "cell_type": "markdown",
   "id": "eae8955e",
   "metadata": {},
   "source": [
    "## Q3. Explain the use of the following operators using an example:\n",
    "(i) /\n",
    "(ii) %\n",
    "(iii) //\n",
    "(iv) **"
   ]
  },
  {
   "cell_type": "markdown",
   "id": "ca9881ad",
   "metadata": {},
   "source": [
    "# I\n",
    "'/' is Division Operator used to perform division two variables. it returns the quotient as a floating number"
   ]
  },
  {
   "cell_type": "code",
   "execution_count": 23,
   "id": "bcc08243",
   "metadata": {},
   "outputs": [
    {
     "name": "stdout",
     "output_type": "stream",
     "text": [
      "3.3333333333333335\n"
     ]
    }
   ],
   "source": [
    "#Example\n",
    "a=10\n",
    "b=3\n",
    "result = 10/3\n",
    "print(result)"
   ]
  },
  {
   "cell_type": "markdown",
   "id": "e933df03",
   "metadata": {},
   "source": [
    "# II '%'\n",
    "Modus operator\n",
    "The operator '%' is called modulo operator and is used to find the reminder of divison between two variables"
   ]
  },
  {
   "cell_type": "code",
   "execution_count": 40,
   "id": "5acacfcd",
   "metadata": {},
   "outputs": [
    {
     "name": "stdout",
     "output_type": "stream",
     "text": [
      "1\n"
     ]
    }
   ],
   "source": [
    "a2 = 10\n",
    "b2 = 3\n",
    "result2 = a2 % b2\n",
    "print(result2) \n"
   ]
  },
  {
   "cell_type": "markdown",
   "id": "2534effc",
   "metadata": {},
   "source": [
    "# III  '//' - Floor Division Operator\n",
    "\n",
    "The // operator performs floor division, which returns the quotient rounded down to the nearest integer.\n",
    "\n",
    "\n"
   ]
  },
  {
   "cell_type": "code",
   "execution_count": 41,
   "id": "2f43ae07",
   "metadata": {},
   "outputs": [
    {
     "name": "stdout",
     "output_type": "stream",
     "text": [
      "3\n"
     ]
    }
   ],
   "source": [
    "a3 = 10\n",
    "b3 = 3\n",
    "result3 = a3 // b3\n",
    "print(result3)\n"
   ]
  },
  {
   "cell_type": "markdown",
   "id": "4c104822",
   "metadata": {},
   "source": [
    "# iv - '**' (Exponentiation Operator)\n",
    "\n",
    "The '**' operator is used for exponentation, raising a number to the power of another number.\n"
   ]
  },
  {
   "cell_type": "code",
   "execution_count": 42,
   "id": "0dae9de4",
   "metadata": {},
   "outputs": [
    {
     "name": "stdout",
     "output_type": "stream",
     "text": [
      "8\n"
     ]
    }
   ],
   "source": [
    "a4 = 2\n",
    "b4 = 3\n",
    "result4 = a4 ** b4\n",
    "print(result4)\n"
   ]
  },
  {
   "cell_type": "markdown",
   "id": "1cdb321d",
   "metadata": {},
   "source": [
    "## Q4 Create a list of length 10 of your choice containing multiple types of data. Using for loop print the element and its data type."
   ]
  },
  {
   "cell_type": "code",
   "execution_count": 29,
   "id": "7c540df1",
   "metadata": {},
   "outputs": [],
   "source": [
    "my_lst4=['test',1,2.34,[1,2,3],(1,2,3),{1,2,3},True,{'name':'John','age':45,'sex':'Male'},'None',45]"
   ]
  },
  {
   "cell_type": "code",
   "execution_count": 30,
   "id": "e56ea6b5",
   "metadata": {},
   "outputs": [
    {
     "data": {
      "text/plain": [
       "10"
      ]
     },
     "execution_count": 30,
     "metadata": {},
     "output_type": "execute_result"
    }
   ],
   "source": [
    "len(my_lst4)"
   ]
  },
  {
   "cell_type": "code",
   "execution_count": 32,
   "id": "c1ace8e3",
   "metadata": {},
   "outputs": [
    {
     "name": "stdout",
     "output_type": "stream",
     "text": [
      "Element:test, DataType:<class 'str'>\n",
      "Element:1, DataType:<class 'int'>\n",
      "Element:2.34, DataType:<class 'float'>\n",
      "Element:[1, 2, 3], DataType:<class 'list'>\n",
      "Element:(1, 2, 3), DataType:<class 'tuple'>\n",
      "Element:{1, 2, 3}, DataType:<class 'set'>\n",
      "Element:True, DataType:<class 'bool'>\n",
      "Element:{'name': 'John', 'age': 45, 'sex': 'Male'}, DataType:<class 'dict'>\n",
      "Element:None, DataType:<class 'str'>\n",
      "Element:45, DataType:<class 'int'>\n"
     ]
    }
   ],
   "source": [
    "for i in my_lst4:\n",
    "    print(f\"Element:{i}, DataType:{type(i)}\")"
   ]
  },
  {
   "cell_type": "markdown",
   "id": "04eaf214",
   "metadata": {},
   "source": [
    "# Q5. Using a while loop, verify if the number A is purely divisible by number B and if so then how many times it can be divisible."
   ]
  },
  {
   "cell_type": "code",
   "execution_count": 38,
   "id": "97212aaa",
   "metadata": {},
   "outputs": [
    {
     "name": "stdout",
     "output_type": "stream",
     "text": [
      "Number A is divisible by B by 2 times.\n"
     ]
    }
   ],
   "source": [
    "A=100\n",
    "B=5\n",
    "\n",
    "count = 0\n",
    "\n",
    "while A % B == 0:\n",
    "    A = A // B\n",
    "    count += 1\n",
    "    \n",
    "if count>0:\n",
    "    print(f\"Number A is divisible by B by {count} times.\")\n",
    "else:\n",
    "    print(\"Number A is not divisible by B.\")"
   ]
  },
  {
   "cell_type": "markdown",
   "id": "e6437312",
   "metadata": {},
   "source": [
    "# Q6 Create a list containing 25 int type data. Using for loop and if-else condition print if the element is divisible by 3 or not."
   ]
  },
  {
   "cell_type": "code",
   "execution_count": 45,
   "id": "a0b09770",
   "metadata": {},
   "outputs": [],
   "source": [
    "Q6=[1,3,6,45,56,65,34,45,23,34,98,76,56,787,99,23,34,59,55,9,8,7,6,6,5]"
   ]
  },
  {
   "cell_type": "code",
   "execution_count": 46,
   "id": "8c0644d7",
   "metadata": {},
   "outputs": [
    {
     "data": {
      "text/plain": [
       "25"
      ]
     },
     "execution_count": 46,
     "metadata": {},
     "output_type": "execute_result"
    }
   ],
   "source": [
    "len(Q6)"
   ]
  },
  {
   "cell_type": "code",
   "execution_count": 49,
   "id": "0d4398bf",
   "metadata": {},
   "outputs": [
    {
     "name": "stdout",
     "output_type": "stream",
     "text": [
      "3 is divisible by 3\n",
      "6 is divisible by 3\n",
      "45 is divisible by 3\n",
      "45 is divisible by 3\n",
      "99 is divisible by 3\n",
      "9 is divisible by 3\n",
      "6 is divisible by 3\n",
      "6 is divisible by 3\n"
     ]
    }
   ],
   "source": [
    "for i in Q6:\n",
    "    if i%3 == 0:\n",
    "        print(f\"{i} is divisible by 3\")"
   ]
  },
  {
   "cell_type": "markdown",
   "id": "8714a47b",
   "metadata": {},
   "source": [
    "# Q7: What do you understand about mutable and immutable data types? Give examples for both showing this property."
   ]
  },
  {
   "cell_type": "markdown",
   "id": "993a3fad",
   "metadata": {},
   "source": [
    "## Immutable Data Types:\n",
    "Immutable data types are those whose values cannot be changed once they are assigned. Any operation that appears to modify an immutable object actually creates a new object with the desired changes.\n",
    "## Mutable Data Types:\n",
    "Mutable data types are those whose values can be modified after they are created. This means that the state of an object can be changed without creating a new object."
   ]
  },
  {
   "cell_type": "code",
   "execution_count": 51,
   "id": "c580e587",
   "metadata": {},
   "outputs": [],
   "source": [
    "#Immutable examples\n",
    "#int (integer): \n",
    "x = 10\n",
    "#float (floating-point number): \n",
    "y = 3.14\n",
    "#str (string): \n",
    "name = \"John\"\n",
    "#tuple: \n",
    "point = (3, 4)\n",
    "\n",
    "#Mutable\n",
    "#list: \n",
    "my_list = [1, 2, 3]\n",
    "#dict (dictionary): \n",
    "person = {\"name\": \"Alice\", \"age\": 25}\n",
    "#set: \n",
    "my_set = {1, 2, 3}\n"
   ]
  },
  {
   "cell_type": "code",
   "execution_count": null,
   "id": "96e3576b",
   "metadata": {},
   "outputs": [],
   "source": []
  }
 ],
 "metadata": {
  "kernelspec": {
   "display_name": "Python 3 (ipykernel)",
   "language": "python",
   "name": "python3"
  },
  "language_info": {
   "codemirror_mode": {
    "name": "ipython",
    "version": 3
   },
   "file_extension": ".py",
   "mimetype": "text/x-python",
   "name": "python",
   "nbconvert_exporter": "python",
   "pygments_lexer": "ipython3",
   "version": "3.9.7"
  }
 },
 "nbformat": 4,
 "nbformat_minor": 5
}
