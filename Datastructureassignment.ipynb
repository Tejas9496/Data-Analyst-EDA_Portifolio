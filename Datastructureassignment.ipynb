{
 "cells": [
  {
   "cell_type": "markdown",
   "id": "9bd4dc3e-9ad1-4bd9-8b7c-ca2b4f6b0819",
   "metadata": {},
   "source": [
    "### Q1 How do you comment code in Python? What are the different types of comments?\n",
    "\n",
    "There are two types of comments in Python:\n",
    "\n",
    "Single-line comments: These comments are used to provide brief explanations or annotations on a single line. They start with the hash symbol (#) and continue until the end of the line.\n",
    "Multi-line comments: These comments span multiple lines and are used for longer explanations or documentation    "
   ]
  },
  {
   "cell_type": "markdown",
   "id": "4dc977e9-19aa-4df0-a89a-fda6b0a5744b",
   "metadata": {},
   "source": [
    "### Q2 What are variables in Python? How do you declare and assign values to variables?\n",
    "\n",
    "In Python, variables are used to store and manipulate data\n",
    "To declare and assign values to variables in Python, you simply need to use the assignment operator (=)\n",
    "\n",
    "1. Variable names can contain letters (a-z, A-Z), digits (0-9), and underscores (_).\n",
    "2. Variable names must start with a letter or an underscore.\n",
    "3. Variable names are case-sensitive, meaning myVariable and myvariable would be considered different variables.\n",
    "\n"
   ]
  },
  {
   "cell_type": "markdown",
   "id": "748b4fe0-e917-4366-856f-206a51b7f6a0",
   "metadata": {},
   "source": [
    "### Q3 How do you convert one data type to another in Python?\n",
    "In Python, you can convert one data type to another using type conversion functions. Here are some commonly used type conversion functions:\n",
    "\n",
    "1. int(): Converts a value to an integer data type.\n",
    "Example: x = int(5.6) converts the floating-point number 5.6 to an integer 5.\n",
    "\n",
    "2. float(): Converts a value to a floating-point data type.\n",
    "Example: x = float(\"3.14\") converts the string \"3.14\" to a float 3.14.\n",
    "\n",
    "3. str(): Converts a value to a string data type.\n",
    "Example: x = str(10) converts the integer 10 to a string \"10\".\n",
    "\n",
    "4. list(): Converts a sequence or iterable to a list.\n",
    "Example: x = list((1, 2, 3)) converts the tuple (1, 2, 3) to a list [1, 2, 3].\n",
    "\n",
    "5. tuple(): Converts a sequence or iterable to a tuple.\n",
    "Example: x = tuple([1, 2, 3]) converts the list [1, 2, 3] to a tuple (1, 2, 3).\n",
    "\n",
    "6. set(): Converts a sequence or iterable to a set.\n",
    "Example: x = set([1, 2, 2, 3]) converts the list [1, 2, 2, 3] to a set {1, 2, 3}.\n",
    "\n",
    "7. dict(): Converts a sequence of key-value pairs to a dictionary.\n",
    "Example: x = dict([(1, 'one'), (2, 'two')]) converts the list of tuples [(1, 'one'), (2, 'two')] to a dictionary {1: 'one', 2: 'two'}."
   ]
  },
  {
   "cell_type": "markdown",
   "id": "90e2e4f9-9a6d-4ba8-b7bf-49dc38b3dfa6",
   "metadata": {},
   "source": [
    "### Q4\n",
    "\n",
    "To write and execute a Python script from the command line, follow these steps:\n",
    "\n",
    "Open a text editor and write your Python code in it. Save the file with a .py extension. For example, you can create a file named script.py and write your code inside it.\n",
    "\n",
    "Open the command line or terminal on your computer.\n",
    "\n",
    "Navigate to the directory where you have saved your Python script using the cd command.\n",
    "\n",
    "Once you are in the correct directory, you can execute the Python script using the python command followed by the name of your script file\n",
    "\n",
    "press Enter to execute the command. The Python interpreter will run your script, and the output (if any) will be displayed in the command line."
   ]
  },
  {
   "cell_type": "markdown",
   "id": "b35ec269-4b99-46d6-98e6-0bffeb388a49",
   "metadata": {},
   "source": [
    "### Q5. Given a list my_list = [1, 2, 3, 4, 5], write the code to slice the list and obtain the sub-list [2, 3]."
   ]
  },
  {
   "cell_type": "code",
   "execution_count": 2,
   "id": "b17467f1-46bb-44cb-b293-f6f666ac0702",
   "metadata": {},
   "outputs": [
    {
     "data": {
      "text/plain": [
       "[2, 3]"
      ]
     },
     "execution_count": 2,
     "metadata": {},
     "output_type": "execute_result"
    }
   ],
   "source": [
    "my_list=[1,2,3,3,4]\n",
    "#code to slice\n",
    "\n",
    "my_list[1:3]"
   ]
  },
  {
   "cell_type": "markdown",
   "id": "bae29c4d-b22d-4e18-8dc9-352928c86cdf",
   "metadata": {},
   "source": [
    "### Q6. What is a complex number in mathematics, and how is it represented in Python?"
   ]
  },
  {
   "cell_type": "markdown",
   "id": "328d8de1-03f3-443f-9903-9d4239faab30",
   "metadata": {},
   "source": [
    "In mathematics, a complex number is a number of the form a + bi, where a and b are real numbers, and i represents the imaginary unit, which is defined as the square root of -1."
   ]
  },
  {
   "cell_type": "code",
   "execution_count": 3,
   "id": "e5b19fc3-7c2f-4753-966f-7811b8d6061e",
   "metadata": {},
   "outputs": [],
   "source": [
    "a = 2 + 3j\n"
   ]
  },
  {
   "cell_type": "code",
   "execution_count": 4,
   "id": "05ffb91b-ed38-44ea-935f-d3379a971953",
   "metadata": {},
   "outputs": [
    {
     "data": {
      "text/plain": [
       "complex"
      ]
     },
     "execution_count": 4,
     "metadata": {},
     "output_type": "execute_result"
    }
   ],
   "source": [
    "type(a)"
   ]
  },
  {
   "cell_type": "markdown",
   "id": "a004bb5e-81b5-4418-8223-89f9a43bbdb0",
   "metadata": {},
   "source": [
    "### Q7 What is the correct way to declare a variable named age and assign the value 25 to it?"
   ]
  },
  {
   "cell_type": "code",
   "execution_count": 6,
   "id": "91841eab-ce22-4817-ac66-64c7b5fc11c6",
   "metadata": {},
   "outputs": [
    {
     "name": "stdout",
     "output_type": "stream",
     "text": [
      "45\n"
     ]
    }
   ],
   "source": [
    "# The correct way to declare the variable age and assign a value is follows/\n",
    "age=45\n",
    "print(age)"
   ]
  },
  {
   "cell_type": "markdown",
   "id": "43a7d7ce-3861-46b1-870b-6ca1db9fe90b",
   "metadata": {},
   "source": [
    "###  Q8 Declare a variable named price and assign the value 9.99 to it. What data type does this variable belong to?"
   ]
  },
  {
   "cell_type": "code",
   "execution_count": 7,
   "id": "5b2d77f6-e797-4826-90cb-e60bd0d5598e",
   "metadata": {},
   "outputs": [
    {
     "name": "stdout",
     "output_type": "stream",
     "text": [
      "The data type for price is:  <class 'float'>\n"
     ]
    }
   ],
   "source": [
    "price = 9.99\n",
    "print(\"The data type for price is: \", type(price))"
   ]
  },
  {
   "cell_type": "markdown",
   "id": "f83f01f9-1acc-4b6c-856f-892d817e63e1",
   "metadata": {},
   "source": [
    "### Q9. Create a variable named name and assign your full name to it as a string. How would you print thevalue of this variable?"
   ]
  },
  {
   "cell_type": "code",
   "execution_count": 10,
   "id": "ddcca219-5df6-43e1-92d2-5808427ffd6c",
   "metadata": {},
   "outputs": [
    {
     "name": "stdout",
     "output_type": "stream",
     "text": [
      "Ganesh Maheshmathi\n"
     ]
    }
   ],
   "source": [
    "full_name = \"Ganesh Maheshmathi\"\n",
    "print (full_name)"
   ]
  },
  {
   "cell_type": "markdown",
   "id": "7c85ba0b-6d1d-486c-b4ad-77b3f07ce44d",
   "metadata": {},
   "source": [
    "### Q10. Given the string \"Hello, World!\", extract the substring \"World\"."
   ]
  },
  {
   "cell_type": "code",
   "execution_count": 11,
   "id": "99c0999f-e0c0-49e4-84d5-be4860082347",
   "metadata": {},
   "outputs": [],
   "source": [
    "stringa= \"Hello, World!\""
   ]
  },
  {
   "cell_type": "code",
   "execution_count": 13,
   "id": "e82c6774-11c7-4e43-a138-76a74726e444",
   "metadata": {},
   "outputs": [
    {
     "data": {
      "text/plain": [
       "13"
      ]
     },
     "execution_count": 13,
     "metadata": {},
     "output_type": "execute_result"
    }
   ],
   "source": [
    "len(stringa)"
   ]
  },
  {
   "cell_type": "code",
   "execution_count": 19,
   "id": "2788f0ce-3600-4d70-986f-dd644d914c05",
   "metadata": {},
   "outputs": [
    {
     "data": {
      "text/plain": [
       "'World'"
      ]
     },
     "execution_count": 19,
     "metadata": {},
     "output_type": "execute_result"
    }
   ],
   "source": [
    "stringa[7:-1]"
   ]
  },
  {
   "cell_type": "markdown",
   "id": "b3f790cd-c50c-4a12-8dea-3c65359458c8",
   "metadata": {},
   "source": [
    "### Q11. Create a variable named \"is_student\" and assign it a boolean value indicating whether you are urrently a student or not."
   ]
  },
  {
   "cell_type": "code",
   "execution_count": 20,
   "id": "97799ce9-26c7-4fc7-82e2-641ba0fb229b",
   "metadata": {},
   "outputs": [],
   "source": [
    "is_student = True"
   ]
  },
  {
   "cell_type": "code",
   "execution_count": 21,
   "id": "2d656614-da19-462a-8c12-6769bf812698",
   "metadata": {},
   "outputs": [
    {
     "data": {
      "text/plain": [
       "bool"
      ]
     },
     "execution_count": 21,
     "metadata": {},
     "output_type": "execute_result"
    }
   ],
   "source": [
    "type(is_student)"
   ]
  },
  {
   "cell_type": "code",
   "execution_count": null,
   "id": "8991247f-5da2-44ed-82f9-6c3c6eee83c8",
   "metadata": {},
   "outputs": [],
   "source": []
  }
 ],
 "metadata": {
  "kernelspec": {
   "display_name": "Python 3 (ipykernel)",
   "language": "python",
   "name": "python3"
  },
  "language_info": {
   "codemirror_mode": {
    "name": "ipython",
    "version": 3
   },
   "file_extension": ".py",
   "mimetype": "text/x-python",
   "name": "python",
   "nbconvert_exporter": "python",
   "pygments_lexer": "ipython3",
   "version": "3.10.8"
  }
 },
 "nbformat": 4,
 "nbformat_minor": 5
}
