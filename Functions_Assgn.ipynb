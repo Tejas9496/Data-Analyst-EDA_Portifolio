{
 "cells": [
  {
   "cell_type": "markdown",
   "id": "152ec4c3-49df-43b5-a52e-005a2805a892",
   "metadata": {},
   "source": [
    "## Q1"
   ]
  },
  {
   "cell_type": "code",
   "execution_count": 2,
   "id": "03783f0f-565c-4c83-8cec-d8082e93b47e",
   "metadata": {},
   "outputs": [],
   "source": [
    "# def is the keyword used to create a function"
   ]
  },
  {
   "cell_type": "code",
   "execution_count": 5,
   "id": "d9b49c9d-9276-4b46-8cea-af757d2241f1",
   "metadata": {},
   "outputs": [],
   "source": [
    "def odd_numbers():\n",
    "    num=[]\n",
    "    for i in range (0,25):\n",
    "        if i%2 != 0:\n",
    "            num.append(i)\n",
    "    return num"
   ]
  },
  {
   "cell_type": "code",
   "execution_count": 6,
   "id": "8d0294cc-0034-4581-9bd3-9a37166042b9",
   "metadata": {},
   "outputs": [
    {
     "data": {
      "text/plain": [
       "[1, 3, 5, 7, 9, 11, 13, 15, 17, 19, 21, 23]"
      ]
     },
     "execution_count": 6,
     "metadata": {},
     "output_type": "execute_result"
    }
   ],
   "source": [
    "odd_numbers()"
   ]
  },
  {
   "cell_type": "markdown",
   "id": "a7231363-c19a-40a3-a497-cdd024b39f1a",
   "metadata": {},
   "source": [
    "## Q2"
   ]
  },
  {
   "cell_type": "markdown",
   "id": "71e4dfca-e00a-4ae2-a6fc-5eb35c3bb647",
   "metadata": {},
   "source": [
    "The *args and **kwargs parameters in Python functions are used to handle a variable number of arguments passed to the function.\n",
    "\n",
    "*args allows a function to accept any number of positional arguments. It collects these arguments into a tuple, which can be iterated or accessed using index numbers. Here's an example function that demonstrates the use of *args:\n",
    "\n",
    "**kwargs allows a function to accept any number of keyword arguments. It collects these arguments into a dictionary, where the keys are the argument names and the values are the corresponding argument values. Here's an example function that demonstrates the use of **kwargs:"
   ]
  },
  {
   "cell_type": "code",
   "execution_count": 11,
   "id": "dc8c950f-4841-4bd1-8dad-b4c7092020e4",
   "metadata": {},
   "outputs": [
    {
     "name": "stdout",
     "output_type": "stream",
     "text": [
      "Hello Ashok\n",
      "Hello Tom Bob\n",
      "Hello Mahesh\n"
     ]
    }
   ],
   "source": [
    "def greet(*args):\n",
    "    for name in args:\n",
    "        print(\"Hello\", name)\n",
    "\n",
    "# Call the function\n",
    "greet(\"Ashok\", \"Tom Bob\", \"Mahesh\")"
   ]
  },
  {
   "cell_type": "code",
   "execution_count": 12,
   "id": "249d851d-65f0-49cf-be58-41adcd86dc49",
   "metadata": {},
   "outputs": [
    {
     "name": "stdout",
     "output_type": "stream",
     "text": [
      "name : Mathur\n",
      "age : 35\n",
      "country : USA\n"
     ]
    }
   ],
   "source": [
    "def show_info(**kwargs):\n",
    "    for key, value in kwargs.items():\n",
    "        print(key, \":\", value)\n",
    "\n",
    "# Call the function\n",
    "show_info(name=\"Mathur\", age=35, country=\"USA\")"
   ]
  },
  {
   "cell_type": "markdown",
   "id": "61196112-dfa5-47c2-9f13-17d313d21cbf",
   "metadata": {},
   "source": [
    "### Q3. What is an iterator in python? Name the method used to initialise the iterator object and the methodused for iteration. Use these methods to print the first five elements of the given list [2, 4, 6, 8, 10, 12, 14, 16, 18, 20]."
   ]
  },
  {
   "cell_type": "markdown",
   "id": "b2468865-8d21-4fc4-b075-7f67c7d067a6",
   "metadata": {},
   "source": [
    "In Python, an iterator is an object that allows for the traversal of elements in a collection or sequence. It provides a way to access the elements of an iterable one at a time without the need to store the entire sequence in memory."
   ]
  },
  {
   "cell_type": "code",
   "execution_count": 18,
   "id": "63b070cd-aae7-4217-b3d6-a4cfe870fbc6",
   "metadata": {},
   "outputs": [
    {
     "name": "stdout",
     "output_type": "stream",
     "text": [
      "2\n",
      "4\n",
      "6\n",
      "8\n",
      "10\n"
     ]
    }
   ],
   "source": [
    "my_list = [2, 4, 6, 8, 10, 12, 14, 16, 18, 20]\n",
    "\n",
    "# Initialize the iterator object\n",
    "my_iterator = iter(my_list)\n",
    "\n",
    "# Iterate over the first five elements\n",
    "for _ in range(5):\n",
    "    element = next(my_iterator)\n",
    "    print(element)\n"
   ]
  },
  {
   "cell_type": "markdown",
   "id": "e1ba00b6-a11c-4bc9-bf45-73797c04d231",
   "metadata": {},
   "source": [
    "### Q4. What is a generator function in python? Why yield keyword is used? Give an example of a generatorfunction."
   ]
  },
  {
   "cell_type": "markdown",
   "id": "35fe11e0-904a-481d-9208-8e8404c2708f",
   "metadata": {},
   "source": [
    "A generator function in Python is a special type of function that generates a sequence of values, one at a time, instead of returning a single value like a regular function. It uses the yield keyword instead of the return keyword to yield values during each iteration."
   ]
  },
  {
   "cell_type": "code",
   "execution_count": 17,
   "id": "358212ad-0f60-4a5a-a200-e7a1f51c9fe9",
   "metadata": {},
   "outputs": [
    {
     "name": "stdout",
     "output_type": "stream",
     "text": [
      "0 2 4 6 8 10 12 14 16 18 20 22 24 26 28 30 32 34 36 38 40 "
     ]
    }
   ],
   "source": [
    "def even_numbers(a):\n",
    "    num = 0\n",
    "    while num <= a:\n",
    "        yield num\n",
    "        num += 2\n",
    "\n",
    "# Create an iterator from the generator function\n",
    "even_iterator = even_numbers(40)\n",
    "\n",
    "# Iterate over the even numbers using a loop\n",
    "for number in even_iterator:\n",
    "    print(number, end = \" \")\n"
   ]
  },
  {
   "cell_type": "markdown",
   "id": "00b700cc-357e-4667-8f22-f0c934adcddf",
   "metadata": {},
   "source": [
    "##  Q5"
   ]
  },
  {
   "cell_type": "code",
   "execution_count": 13,
   "id": "a536c6a3-3c02-4953-8540-8a36991be5b7",
   "metadata": {},
   "outputs": [
    {
     "name": "stdout",
     "output_type": "stream",
     "text": [
      "2\n",
      "3\n",
      "5\n",
      "7\n",
      "11\n",
      "13\n",
      "17\n",
      "19\n",
      "23\n",
      "29\n",
      "31\n",
      "37\n",
      "41\n",
      "43\n",
      "47\n",
      "53\n",
      "59\n",
      "61\n",
      "67\n",
      "71\n"
     ]
    }
   ],
   "source": [
    "def prime_generator():\n",
    "    yield 2  # 2 is the first prime number\n",
    "    primes = [2]\n",
    "    num = 3\n",
    "    while num < 1000:\n",
    "        is_prime = True\n",
    "        for prime in primes:\n",
    "            if prime > int(num ** 0.5) + 1:\n",
    "                break\n",
    "            if num % prime == 0:\n",
    "                is_prime = False\n",
    "                break\n",
    "        if is_prime:\n",
    "            primes.append(num)\n",
    "            yield num\n",
    "        num += 2\n",
    "\n",
    "# Create the prime number generator\n",
    "generator = prime_generator()\n",
    "\n",
    "# Print the first 20 prime numbers\n",
    "for _ in range(20):\n",
    "    print(next(generator))\n"
   ]
  },
  {
   "cell_type": "code",
   "execution_count": null,
   "id": "c4b66b0a-0e65-49bf-ac52-084216fd970b",
   "metadata": {},
   "outputs": [],
   "source": []
  },
  {
   "cell_type": "code",
   "execution_count": null,
   "id": "ccf594a5-9f25-4937-9c9a-05c699ca9fdd",
   "metadata": {},
   "outputs": [],
   "source": []
  }
 ],
 "metadata": {
  "kernelspec": {
   "display_name": "Python 3 (ipykernel)",
   "language": "python",
   "name": "python3"
  },
  "language_info": {
   "codemirror_mode": {
    "name": "ipython",
    "version": 3
   },
   "file_extension": ".py",
   "mimetype": "text/x-python",
   "name": "python",
   "nbconvert_exporter": "python",
   "pygments_lexer": "ipython3",
   "version": "3.10.8"
  }
 },
 "nbformat": 4,
 "nbformat_minor": 5
}
