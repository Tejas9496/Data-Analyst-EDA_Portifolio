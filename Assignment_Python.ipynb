{
 "cells": [
  {
   "cell_type": "markdown",
   "id": "f0212826-09f2-450d-8dc3-d720317c218e",
   "metadata": {},
   "source": [
    "### Q1\n",
    "Create a python program to sort the given list of tuples based on integer value using a\n",
    "lambda function.\n"
   ]
  },
  {
   "cell_type": "code",
   "execution_count": 1,
   "id": "ea19a9ab-72ac-4778-b6dc-1eb2f6d9eee5",
   "metadata": {},
   "outputs": [],
   "source": [
    "Q1 = [('Sachin Tendulkar', 34357), ('Ricky Ponting', 27483), ('Jack Kallis', 25534), ('Virat Kohli', 24936)] "
   ]
  },
  {
   "cell_type": "code",
   "execution_count": 2,
   "id": "262c2acb-87e6-4ecf-8551-614687fcdd61",
   "metadata": {},
   "outputs": [
    {
     "data": {
      "text/plain": [
       "[('Virat Kohli', 24936),\n",
       " ('Jack Kallis', 25534),\n",
       " ('Ricky Ponting', 27483),\n",
       " ('Sachin Tendulkar', 34357)]"
      ]
     },
     "execution_count": 2,
     "metadata": {},
     "output_type": "execute_result"
    }
   ],
   "source": [
    "sorted(Q1, key=lambda x : x[1] )"
   ]
  },
  {
   "cell_type": "code",
   "execution_count": null,
   "id": "f9e6cedb-c517-423c-9463-f9d8009c153e",
   "metadata": {},
   "outputs": [],
   "source": []
  },
  {
   "cell_type": "markdown",
   "id": "85654e94-4ace-4fd4-a004-665e7c57c9a7",
   "metadata": {},
   "source": [
    "### Q2 \n",
    "Write a Python Program to find the squares of all the numbers in the given list of integers using lambda and map functions."
   ]
  },
  {
   "cell_type": "code",
   "execution_count": 3,
   "id": "869bd38e-8f26-47f0-b892-ea93bc92c769",
   "metadata": {},
   "outputs": [],
   "source": [
    "l = [1,2,3,4,5,6,7,8,9,10]"
   ]
  },
  {
   "cell_type": "code",
   "execution_count": 4,
   "id": "4a554bc9-4290-4233-ae0f-e650aafacfd4",
   "metadata": {},
   "outputs": [
    {
     "data": {
      "text/plain": [
       "[1, 4, 9, 16, 25, 36, 49, 64, 81, 100]"
      ]
     },
     "execution_count": 4,
     "metadata": {},
     "output_type": "execute_result"
    }
   ],
   "source": [
    "list(map(lambda x: x**2, l))"
   ]
  },
  {
   "cell_type": "markdown",
   "id": "23cedb7b-93f2-449a-a030-8032de004b2f",
   "metadata": {},
   "source": [
    "### Q3\n",
    "Write a python program to convert the given list of integers into a tuple of strings. Use map and\n",
    "lambda functions"
   ]
  },
  {
   "cell_type": "code",
   "execution_count": 5,
   "id": "e0cb9de3-bdbb-4183-9067-bab66cfa750e",
   "metadata": {},
   "outputs": [],
   "source": [
    "stringq3 = [1,2,3,4,5,6,7,8,9,10]\n"
   ]
  },
  {
   "cell_type": "code",
   "execution_count": 6,
   "id": "392b4918-95d4-41a9-a259-7cb26c885adf",
   "metadata": {},
   "outputs": [
    {
     "data": {
      "text/plain": [
       "['1', '2', '3', '4', '5', '6', '7', '8', '9', '10']"
      ]
     },
     "execution_count": 6,
     "metadata": {},
     "output_type": "execute_result"
    }
   ],
   "source": [
    "list(map(lambda x: str(x), stringq3))"
   ]
  },
  {
   "cell_type": "markdown",
   "id": "6767b52d-90b3-4437-9b2a-4b40c620bf47",
   "metadata": {},
   "source": [
    "### Q4. \n",
    "Write a python program using reduce function to compute the product of a list containing numbers from 1 to 25."
   ]
  },
  {
   "cell_type": "code",
   "execution_count": 7,
   "id": "1a2c90d0-d4dd-4d93-8e3d-562cf0d9efed",
   "metadata": {},
   "outputs": [],
   "source": [
    "from functools import reduce"
   ]
  },
  {
   "cell_type": "code",
   "execution_count": 13,
   "id": "0d04fb80-878e-4263-ad37-055c839d49d0",
   "metadata": {},
   "outputs": [],
   "source": [
    "l4=list(range(1,26))"
   ]
  },
  {
   "cell_type": "code",
   "execution_count": 14,
   "id": "613c344c-c4a1-44b2-bced-e36aa1469240",
   "metadata": {},
   "outputs": [
    {
     "data": {
      "text/plain": [
       "15511210043330985984000000"
      ]
     },
     "execution_count": 14,
     "metadata": {},
     "output_type": "execute_result"
    }
   ],
   "source": [
    "reduce(lambda x,y : x*y,l4) "
   ]
  },
  {
   "cell_type": "markdown",
   "id": "cbfed573-c9ea-44f8-a606-e5394643ae48",
   "metadata": {},
   "source": [
    "### Q5\n",
    "Write a python program to filter the numbers in a given list that are divisible by 2 and 3 using the\n",
    "filter function."
   ]
  },
  {
   "cell_type": "code",
   "execution_count": 9,
   "id": "324d91d6-558c-4208-a90e-fb3ce313b07b",
   "metadata": {},
   "outputs": [],
   "source": [
    "l5 = [2, 3, 6, 9, 27, 60, 90, 120, 55, 46]"
   ]
  },
  {
   "cell_type": "code",
   "execution_count": 10,
   "id": "e231fbb2-870a-4bf8-9791-aec5df73d96c",
   "metadata": {},
   "outputs": [
    {
     "data": {
      "text/plain": [
       "[6, 60, 90, 120]"
      ]
     },
     "execution_count": 10,
     "metadata": {},
     "output_type": "execute_result"
    }
   ],
   "source": [
    "list(filter(lambda x: x%2==0 and x%3==0,l5))"
   ]
  },
  {
   "cell_type": "markdown",
   "id": "0cfb425c-4a27-4e73-946e-d17d7b7c2628",
   "metadata": {},
   "source": [
    "### Q6\n",
    "Write a python program to find palindromes in the given list of strings using lambda and filter\n",
    "function."
   ]
  },
  {
   "cell_type": "code",
   "execution_count": 11,
   "id": "3202f609-48d5-47dc-9567-b9fdcd30ba26",
   "metadata": {},
   "outputs": [],
   "source": [
    "stringq6 = [\"python\",\"php\",\"aba\",\"radar\",\"level\"]"
   ]
  },
  {
   "cell_type": "code",
   "execution_count": 12,
   "id": "10c1d524-5a87-4b92-ad81-61f04565edc0",
   "metadata": {},
   "outputs": [
    {
     "data": {
      "text/plain": [
       "['php', 'aba', 'radar', 'level']"
      ]
     },
     "execution_count": 12,
     "metadata": {},
     "output_type": "execute_result"
    }
   ],
   "source": [
    "list(filter(lambda x:x == x[::-1],stringq6))"
   ]
  },
  {
   "cell_type": "code",
   "execution_count": null,
   "id": "1edc8679-62f1-4877-aecc-005aad7a9d8f",
   "metadata": {},
   "outputs": [],
   "source": []
  },
  {
   "cell_type": "code",
   "execution_count": null,
   "id": "aaead2c6-1d3d-44f8-a92b-c09099043a6d",
   "metadata": {},
   "outputs": [],
   "source": []
  }
 ],
 "metadata": {
  "kernelspec": {
   "display_name": "Python 3 (ipykernel)",
   "language": "python",
   "name": "python3"
  },
  "language_info": {
   "codemirror_mode": {
    "name": "ipython",
    "version": 3
   },
   "file_extension": ".py",
   "mimetype": "text/x-python",
   "name": "python",
   "nbconvert_exporter": "python",
   "pygments_lexer": "ipython3",
   "version": "3.10.8"
  }
 },
 "nbformat": 4,
 "nbformat_minor": 5
}
